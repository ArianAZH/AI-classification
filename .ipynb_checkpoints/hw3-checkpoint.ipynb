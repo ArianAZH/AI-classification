{
 "cells": [
  {
   "cell_type": "markdown",
   "id": "d469dd0f",
   "metadata": {},
   "source": [
    "# Arian mohammad khani- 810603136"
   ]
  },
  {
   "cell_type": "markdown",
   "id": "572c026f",
   "metadata": {},
   "source": [
    "# homework 3"
   ]
  },
  {
   "cell_type": "markdown",
   "id": "a7ba62a1",
   "metadata": {},
   "source": [
    "The goal of this exercise is to evaluate the performance of binary and multiclass classification methods. To achieve this, the case of health monitoring and fault detection of a milling machine tool has been considered.\n",
    "The dataset in question (`machine_milling.csv` file) contains 1000 records, where each record indicates the condition of the milling tool (sixth column) based on five features: **\"ambient temperature,\" \"process temperature,\" \"rotational speed of the tool,\" \"torque applied to the tool axis,\"** and **\"duration of tool exposure to wear\"** (first to fifth columns).\n"
   ]
  },
  {
   "cell_type": "code",
   "execution_count": 1,
   "id": "2af4d924",
   "metadata": {},
   "outputs": [],
   "source": [
    "from pandas import *\n",
    "from numpy import * \n",
    "import matplotlib.pyplot as plt\n",
    "import seaborn as sns\n",
    "from sklearn.model_selection import  train_test_split, GridSearchCV\n",
    "from sklearn.preprocessing import  LabelEncoder, StandardScaler, MinMaxScaler\n",
    "from sklearn.linear_model import LogisticRegression\n",
    "from sklearn.neighbors import KNeighborsClassifier\n",
    "from sklearn.svm import SVC\n",
    "from sklearn.metrics import classification_report, accuracy_score, confusion_matrix\n",
    "from imblearn.over_sampling import SMOTE\n",
    "from sklearn.tree import DecisionTreeClassifier\n",
    "from sklearn.ensemble import RandomForestClassifier\n",
    "from sklearn.multiclass import OneVsRestClassifier, OneVsOneClassifier"
   ]
  },
  {
   "cell_type": "markdown",
   "id": "25610447",
   "metadata": {},
   "source": [
    "# a"
   ]
  },
  {
   "cell_type": "code",
   "execution_count": 2,
   "id": "dd1b1c2b",
   "metadata": {},
   "outputs": [
    {
     "name": "stdout",
     "output_type": "stream",
     "text": [
      "<class 'pandas.core.frame.DataFrame'>\n",
      "RangeIndex: 10000 entries, 0 to 9999\n",
      "Data columns (total 6 columns):\n",
      " #   Column                  Non-Null Count  Dtype  \n",
      "---  ------                  --------------  -----  \n",
      " 0   Air Temp (°C)           9965 non-null   float64\n",
      " 1   Process Temp (°C)       9990 non-null   float64\n",
      " 2   Rotational Speed (RPM)  10000 non-null  float64\n",
      " 3   Torque (Nm)             10000 non-null  float64\n",
      " 4   Tool Wear (Seconds)     9993 non-null   float64\n",
      " 5   Failure Types           9991 non-null   object \n",
      "dtypes: float64(5), object(1)\n",
      "memory usage: 468.9+ KB\n"
     ]
    }
   ],
   "source": [
    "data_frame = read_csv('milling_machine.csv')  \n",
    "data_frame.info()"
   ]
  },
  {
   "cell_type": "code",
   "execution_count": 3,
   "id": "ccefcfcb",
   "metadata": {},
   "outputs": [
    {
     "data": {
      "text/html": [
       "<div>\n",
       "<style scoped>\n",
       "    .dataframe tbody tr th:only-of-type {\n",
       "        vertical-align: middle;\n",
       "    }\n",
       "\n",
       "    .dataframe tbody tr th {\n",
       "        vertical-align: top;\n",
       "    }\n",
       "\n",
       "    .dataframe thead th {\n",
       "        text-align: right;\n",
       "    }\n",
       "</style>\n",
       "<table border=\"1\" class=\"dataframe\">\n",
       "  <thead>\n",
       "    <tr style=\"text-align: right;\">\n",
       "      <th></th>\n",
       "      <th>Air Temp (°C)</th>\n",
       "      <th>Process Temp (°C)</th>\n",
       "      <th>Rotational Speed (RPM)</th>\n",
       "      <th>Torque (Nm)</th>\n",
       "      <th>Tool Wear (Seconds)</th>\n",
       "      <th>Failure Types</th>\n",
       "    </tr>\n",
       "  </thead>\n",
       "  <tbody>\n",
       "    <tr>\n",
       "      <th>0</th>\n",
       "      <td>29.021640</td>\n",
       "      <td>71.620737</td>\n",
       "      <td>1515.840689</td>\n",
       "      <td>50.223021</td>\n",
       "      <td>664.638000</td>\n",
       "      <td>No Failure</td>\n",
       "    </tr>\n",
       "    <tr>\n",
       "      <th>1</th>\n",
       "      <td>21.886075</td>\n",
       "      <td>69.896471</td>\n",
       "      <td>2083.417786</td>\n",
       "      <td>52.221351</td>\n",
       "      <td>6628.080758</td>\n",
       "      <td>No Failure</td>\n",
       "    </tr>\n",
       "    <tr>\n",
       "      <th>2</th>\n",
       "      <td>29.020744</td>\n",
       "      <td>74.731134</td>\n",
       "      <td>2455.801496</td>\n",
       "      <td>57.822145</td>\n",
       "      <td>3295.576818</td>\n",
       "      <td>No Failure</td>\n",
       "    </tr>\n",
       "    <tr>\n",
       "      <th>3</th>\n",
       "      <td>25.793868</td>\n",
       "      <td>70.715109</td>\n",
       "      <td>2112.654324</td>\n",
       "      <td>69.910072</td>\n",
       "      <td>7116.479752</td>\n",
       "      <td>No Failure</td>\n",
       "    </tr>\n",
       "    <tr>\n",
       "      <th>4</th>\n",
       "      <td>21.056760</td>\n",
       "      <td>71.025092</td>\n",
       "      <td>1642.485295</td>\n",
       "      <td>68.411333</td>\n",
       "      <td>1191.996403</td>\n",
       "      <td>No Failure</td>\n",
       "    </tr>\n",
       "  </tbody>\n",
       "</table>\n",
       "</div>"
      ],
      "text/plain": [
       "   Air Temp (°C)  Process Temp (°C)  Rotational Speed (RPM)  Torque (Nm)  \\\n",
       "0      29.021640          71.620737             1515.840689    50.223021   \n",
       "1      21.886075          69.896471             2083.417786    52.221351   \n",
       "2      29.020744          74.731134             2455.801496    57.822145   \n",
       "3      25.793868          70.715109             2112.654324    69.910072   \n",
       "4      21.056760          71.025092             1642.485295    68.411333   \n",
       "\n",
       "   Tool Wear (Seconds) Failure Types  \n",
       "0           664.638000    No Failure  \n",
       "1          6628.080758    No Failure  \n",
       "2          3295.576818    No Failure  \n",
       "3          7116.479752    No Failure  \n",
       "4          1191.996403    No Failure  "
      ]
     },
     "execution_count": 3,
     "metadata": {},
     "output_type": "execute_result"
    }
   ],
   "source": [
    "data_frame.head()"
   ]
  },
  {
   "cell_type": "code",
   "execution_count": 4,
   "id": "497905e3",
   "metadata": {},
   "outputs": [
    {
     "data": {
      "text/html": [
       "<div>\n",
       "<style scoped>\n",
       "    .dataframe tbody tr th:only-of-type {\n",
       "        vertical-align: middle;\n",
       "    }\n",
       "\n",
       "    .dataframe tbody tr th {\n",
       "        vertical-align: top;\n",
       "    }\n",
       "\n",
       "    .dataframe thead th {\n",
       "        text-align: right;\n",
       "    }\n",
       "</style>\n",
       "<table border=\"1\" class=\"dataframe\">\n",
       "  <thead>\n",
       "    <tr style=\"text-align: right;\">\n",
       "      <th></th>\n",
       "      <th>Air Temp (°C)</th>\n",
       "      <th>Process Temp (°C)</th>\n",
       "      <th>Rotational Speed (RPM)</th>\n",
       "      <th>Torque (Nm)</th>\n",
       "      <th>Tool Wear (Seconds)</th>\n",
       "    </tr>\n",
       "  </thead>\n",
       "  <tbody>\n",
       "    <tr>\n",
       "      <th>count</th>\n",
       "      <td>9965.000000</td>\n",
       "      <td>9990.000000</td>\n",
       "      <td>10000.000000</td>\n",
       "      <td>10000.000000</td>\n",
       "      <td>9993.000000</td>\n",
       "    </tr>\n",
       "    <tr>\n",
       "      <th>mean</th>\n",
       "      <td>28.516926</td>\n",
       "      <td>80.812186</td>\n",
       "      <td>1401.909988</td>\n",
       "      <td>46.998845</td>\n",
       "      <td>11393.143344</td>\n",
       "    </tr>\n",
       "    <tr>\n",
       "      <th>std</th>\n",
       "      <td>7.719340</td>\n",
       "      <td>15.548350</td>\n",
       "      <td>968.446183</td>\n",
       "      <td>26.747646</td>\n",
       "      <td>9023.336380</td>\n",
       "    </tr>\n",
       "    <tr>\n",
       "      <th>min</th>\n",
       "      <td>20.001366</td>\n",
       "      <td>60.001876</td>\n",
       "      <td>0.047731</td>\n",
       "      <td>0.015920</td>\n",
       "      <td>3.469877</td>\n",
       "    </tr>\n",
       "    <tr>\n",
       "      <th>25%</th>\n",
       "      <td>23.176455</td>\n",
       "      <td>68.090324</td>\n",
       "      <td>423.672240</td>\n",
       "      <td>18.091381</td>\n",
       "      <td>5023.027818</td>\n",
       "    </tr>\n",
       "    <tr>\n",
       "      <th>50%</th>\n",
       "      <td>26.212082</td>\n",
       "      <td>76.553203</td>\n",
       "      <td>1377.047835</td>\n",
       "      <td>54.983239</td>\n",
       "      <td>8995.172952</td>\n",
       "    </tr>\n",
       "    <tr>\n",
       "      <th>75%</th>\n",
       "      <td>29.377536</td>\n",
       "      <td>92.825894</td>\n",
       "      <td>2307.969925</td>\n",
       "      <td>67.258375</td>\n",
       "      <td>15024.825673</td>\n",
       "    </tr>\n",
       "    <tr>\n",
       "      <th>max</th>\n",
       "      <td>49.998008</td>\n",
       "      <td>119.971025</td>\n",
       "      <td>2999.953724</td>\n",
       "      <td>89.993221</td>\n",
       "      <td>35999.566519</td>\n",
       "    </tr>\n",
       "  </tbody>\n",
       "</table>\n",
       "</div>"
      ],
      "text/plain": [
       "       Air Temp (°C)  Process Temp (°C)  Rotational Speed (RPM)   Torque (Nm)  \\\n",
       "count    9965.000000        9990.000000            10000.000000  10000.000000   \n",
       "mean       28.516926          80.812186             1401.909988     46.998845   \n",
       "std         7.719340          15.548350              968.446183     26.747646   \n",
       "min        20.001366          60.001876                0.047731      0.015920   \n",
       "25%        23.176455          68.090324              423.672240     18.091381   \n",
       "50%        26.212082          76.553203             1377.047835     54.983239   \n",
       "75%        29.377536          92.825894             2307.969925     67.258375   \n",
       "max        49.998008         119.971025             2999.953724     89.993221   \n",
       "\n",
       "       Tool Wear (Seconds)  \n",
       "count          9993.000000  \n",
       "mean          11393.143344  \n",
       "std            9023.336380  \n",
       "min               3.469877  \n",
       "25%            5023.027818  \n",
       "50%            8995.172952  \n",
       "75%           15024.825673  \n",
       "max           35999.566519  "
      ]
     },
     "execution_count": 4,
     "metadata": {},
     "output_type": "execute_result"
    }
   ],
   "source": [
    "data_frame.describe()"
   ]
  },
  {
   "cell_type": "code",
   "execution_count": 5,
   "id": "ec0f5b51",
   "metadata": {},
   "outputs": [
    {
     "data": {
      "text/html": [
       "<div>\n",
       "<style scoped>\n",
       "    .dataframe tbody tr th:only-of-type {\n",
       "        vertical-align: middle;\n",
       "    }\n",
       "\n",
       "    .dataframe tbody tr th {\n",
       "        vertical-align: top;\n",
       "    }\n",
       "\n",
       "    .dataframe thead th {\n",
       "        text-align: right;\n",
       "    }\n",
       "</style>\n",
       "<table border=\"1\" class=\"dataframe\">\n",
       "  <thead>\n",
       "    <tr style=\"text-align: right;\">\n",
       "      <th></th>\n",
       "      <th>Missing value Count</th>\n",
       "      <th>Missing value Ratio</th>\n",
       "    </tr>\n",
       "  </thead>\n",
       "  <tbody>\n",
       "    <tr>\n",
       "      <th>Air Temp (°C)</th>\n",
       "      <td>35</td>\n",
       "      <td>0.0035</td>\n",
       "    </tr>\n",
       "    <tr>\n",
       "      <th>Process Temp (°C)</th>\n",
       "      <td>10</td>\n",
       "      <td>0.0010</td>\n",
       "    </tr>\n",
       "    <tr>\n",
       "      <th>Rotational Speed (RPM)</th>\n",
       "      <td>0</td>\n",
       "      <td>0.0000</td>\n",
       "    </tr>\n",
       "    <tr>\n",
       "      <th>Torque (Nm)</th>\n",
       "      <td>0</td>\n",
       "      <td>0.0000</td>\n",
       "    </tr>\n",
       "    <tr>\n",
       "      <th>Tool Wear (Seconds)</th>\n",
       "      <td>7</td>\n",
       "      <td>0.0007</td>\n",
       "    </tr>\n",
       "    <tr>\n",
       "      <th>Failure Types</th>\n",
       "      <td>9</td>\n",
       "      <td>0.0009</td>\n",
       "    </tr>\n",
       "  </tbody>\n",
       "</table>\n",
       "</div>"
      ],
      "text/plain": [
       "                        Missing value Count  Missing value Ratio\n",
       "Air Temp (°C)                            35               0.0035\n",
       "Process Temp (°C)                        10               0.0010\n",
       "Rotational Speed (RPM)                    0               0.0000\n",
       "Torque (Nm)                               0               0.0000\n",
       "Tool Wear (Seconds)                       7               0.0007\n",
       "Failure Types                             9               0.0009"
      ]
     },
     "execution_count": 5,
     "metadata": {},
     "output_type": "execute_result"
    }
   ],
   "source": [
    "missing_v = data_frame.isnull().sum()\n",
    "missing_v_ratio = data_frame.isnull().mean() \n",
    "\n",
    "missing_data = DataFrame({\n",
    "    'Missing value Count': missing_v,\n",
    "    'Missing value Ratio': missing_v_ratio\n",
    "})\n",
    "missing_data"
   ]
  },
  {
   "cell_type": "code",
   "execution_count": 6,
   "id": "86a795ea",
   "metadata": {},
   "outputs": [
    {
     "name": "stdout",
     "output_type": "stream",
     "text": [
      "Failure Types             1.000000\n",
      "Tool Wear (Seconds)       0.656459\n",
      "Process Temp (°C)        -0.257862\n",
      "Rotational Speed (RPM)   -0.582298\n",
      "Torque (Nm)              -0.626631\n",
      "Air Temp (°C)            -0.636946\n",
      "Name: Failure Types, dtype: float64\n"
     ]
    },
    {
     "data": {
      "image/png": "[encoded data removed]",
      "text/plain": [
       "<Figure size 1000x600 with 2 Axes>"
      ]
     },
     "metadata": {},
     "output_type": "display_data"
    }
   ],
   "source": [
    "new_data = data_frame.copy()\n",
    "label_encoder = LabelEncoder()\n",
    "for column in new_data.select_dtypes(include='object').columns:\n",
    "    new_data[column] = label_encoder.fit_transform(new_data[column])\n",
    "\n",
    "correlation_matrix = new_data.corr(numeric_only=True)\n",
    "correlation_with_failure = correlation_matrix['Failure Types']\n",
    "sorted_corr = correlation_with_failure.sort_values(ascending=False)\n",
    "print(sorted_corr)\n",
    "\n",
    "plt.figure(figsize=(10, 6))\n",
    "sns.heatmap(correlation_matrix, annot=True, cmap='coolwarm')\n",
    "plt.title('Correlation Matrix')\n",
    "plt.show()"
   ]
  },
  {
   "cell_type": "code",
   "execution_count": 7,
   "id": "df205908",
   "metadata": {
    "scrolled": false
   },
   "outputs": [
    {
     "data": {
      "image/png": "[encoded data removed]",
      "text/plain": [
       "<Figure size 800x400 with 1 Axes>"
      ]
     },
     "metadata": {},
     "output_type": "display_data"
    },
    {
     "data": {
      "image/png": "[encoded data removed]",
      "text/plain": [
       "<Figure size 800x400 with 1 Axes>"
      ]
     },
     "metadata": {},
     "output_type": "display_data"
    },
    {
     "data": {
      "image/png": "[encoded data removed]",
      "text/plain": [
       "<Figure size 800x400 with 1 Axes>"
      ]
     },
     "metadata": {},
     "output_type": "display_data"
    }
   ],
   "source": [
    "top_features = sorted_corr.drop('Failure Types').abs().nlargest(3).index\n",
    "\n",
    "for feature in top_features:\n",
    "    plt.figure(figsize=(8, 4))\n",
    "    sns.histplot(data=new_data, x=feature, bins=10, kde=False)  \n",
    "    plt.title(f'Distribution of {feature} (Binned)')\n",
    "    plt.xlabel(feature)\n",
    "    plt.ylabel('Count')\n",
    "    plt.tight_layout()\n",
    "    plt.show()"
   ]
  },
  {
   "cell_type": "code",
   "execution_count": 8,
   "id": "7f6ba13d",
   "metadata": {},
   "outputs": [
    {
     "name": "stdout",
     "output_type": "stream",
     "text": [
      "<class 'pandas.core.frame.DataFrame'>\n",
      "RangeIndex: 10000 entries, 0 to 9999\n",
      "Data columns (total 6 columns):\n",
      " #   Column                  Non-Null Count  Dtype  \n",
      "---  ------                  --------------  -----  \n",
      " 0   Air Temp (°C)           9965 non-null   float64\n",
      " 1   Process Temp (°C)       9990 non-null   float64\n",
      " 2   Rotational Speed (RPM)  10000 non-null  float64\n",
      " 3   Torque (Nm)             10000 non-null  float64\n",
      " 4   Tool Wear (Seconds)     9993 non-null   float64\n",
      " 5   Failure Types           9991 non-null   object \n",
      "dtypes: float64(5), object(1)\n",
      "memory usage: 468.9+ KB\n"
     ]
    }
   ],
   "source": [
    "data_frame.info()"
   ]
  },
  {
   "cell_type": "markdown",
   "id": "6bf0ddbd",
   "metadata": {},
   "source": [
    "# b"
   ]
  },
  {
   "cell_type": "code",
   "execution_count": 9,
   "id": "a88dcdc8",
   "metadata": {
    "scrolled": true
   },
   "outputs": [],
   "source": [
    "for column in data_frame.columns:\n",
    "    missing_value = data_frame[column].isnull().sum()\n",
    "    if missing_value > 0:\n",
    "        if data_frame[column].dtype == 'float64' :\n",
    "            if  column != 'Failure Types':\n",
    "                data_frame[column] = data_frame.groupby('Failure Types')[column].transform(lambda x: x.fillna(x.mean()))\n",
    "        elif data_frame[column].dtype == 'object' :\n",
    "            data_frame.dropna(subset=[column], inplace=True)"
   ]
  },
  {
   "cell_type": "code",
   "execution_count": 10,
   "id": "7017f0ea",
   "metadata": {},
   "outputs": [],
   "source": [
    "label_encoder = LabelEncoder()\n",
    "for column in data_frame.select_dtypes(include='object').columns:\n",
    "    data_frame[column] = label_encoder.fit_transform(data_frame[column])"
   ]
  },
  {
   "cell_type": "code",
   "execution_count": 11,
   "id": "9ec6cf9c",
   "metadata": {},
   "outputs": [
    {
     "name": "stdout",
     "output_type": "stream",
     "text": [
      "<class 'pandas.core.frame.DataFrame'>\n",
      "Index: 9991 entries, 0 to 9999\n",
      "Data columns (total 6 columns):\n",
      " #   Column                  Non-Null Count  Dtype  \n",
      "---  ------                  --------------  -----  \n",
      " 0   Air Temp (°C)           9991 non-null   float64\n",
      " 1   Process Temp (°C)       9991 non-null   float64\n",
      " 2   Rotational Speed (RPM)  9991 non-null   float64\n",
      " 3   Torque (Nm)             9991 non-null   float64\n",
      " 4   Tool Wear (Seconds)     9991 non-null   float64\n",
      " 5   Failure Types           9991 non-null   int32  \n",
      "dtypes: float64(5), int32(1)\n",
      "memory usage: 507.4 KB\n"
     ]
    }
   ],
   "source": [
    "data_frame.info()"
   ]
  },
  {
   "cell_type": "code",
   "execution_count": 12,
   "id": "c72b95ce",
   "metadata": {},
   "outputs": [],
   "source": [
    "numeric_cols = ['Air Temp (°C)', 'Process Temp (°C)', 'Rotational Speed (RPM)', 'Torque (Nm)', 'Tool Wear (Seconds)']\n",
    "\n",
    "scaler = StandardScaler()\n",
    "data_frame[numeric_cols] = scaler.fit_transform(data_frame[numeric_cols])"
   ]
  },
  {
   "cell_type": "markdown",
   "id": "9205cb0a",
   "metadata": {},
   "source": [
    "# c  "
   ]
  },
  {
   "cell_type": "code",
   "execution_count": 13,
   "id": "0fdb97da",
   "metadata": {},
   "outputs": [
    {
     "data": {
      "text/plain": [
       "Failure_Binary\n",
       "Failure       7993\n",
       "No Failure    1998\n",
       "Name: count, dtype: int64"
      ]
     },
     "execution_count": 13,
     "metadata": {},
     "output_type": "execute_result"
    }
   ],
   "source": [
    "data_frame['Failure_Binary'] = data_frame['Failure Types'].apply(lambda x: 'Failure' if x != 0 else 'No Failure')\n",
    "data_frame['Failure_Binary'].value_counts()"
   ]
  },
  {
   "cell_type": "code",
   "execution_count": 14,
   "id": "f25b4b39",
   "metadata": {},
   "outputs": [
    {
     "data": {
      "image/png": "[encoded data removed]",
      "text/plain": [
       "<Figure size 640x480 with 1 Axes>"
      ]
     },
     "metadata": {},
     "output_type": "display_data"
    }
   ],
   "source": [
    "sns.countplot(data=data_frame, x='Failure_Binary')\n",
    "plt.title('Distribution of Tool Condition (Failure vs No Failure)')\n",
    "plt.xlabel('Tool Condition')\n",
    "plt.ylabel('Count')\n",
    "plt.show()"
   ]
  },
  {
   "cell_type": "code",
   "execution_count": 15,
   "id": "851c8cc3",
   "metadata": {},
   "outputs": [
    {
     "name": "stdout",
     "output_type": "stream",
     "text": [
      "After SMOTE:\n",
      "{'Failure': 7993, 'No Failure': 7993}\n"
     ]
    }
   ],
   "source": [
    "X = data_frame.drop(columns=['Failure Types', 'Failure_Binary'])\n",
    "y = data_frame['Failure_Binary']\n",
    "\n",
    "label_encoder = LabelEncoder()\n",
    "y_encoded = label_encoder.fit_transform(y) \n",
    "\n",
    "smote = SMOTE(random_state=42)\n",
    "X_resampled, y_resampled = smote.fit_resample(X, y_encoded)\n",
    "\n",
    "print(\"After SMOTE:\")\n",
    "uniques, counts = unique(y_resampled, return_counts=True)\n",
    "print(dict(zip(label_encoder.inverse_transform(uniques), counts)))\n",
    "\n",
    "\n",
    "X_train, X_test, y_train, y_test = train_test_split(X_resampled, y_resampled, test_size=0.2, random_state=42)"
   ]
  },
  {
   "cell_type": "code",
   "execution_count": 16,
   "id": "7d7fdcd4",
   "metadata": {},
   "outputs": [
    {
     "name": "stdout",
     "output_type": "stream",
     "text": [
      "\n",
      "Logistic Regression:\n",
      "\n",
      "Confusion Matrix:\n",
      " [[1572    0]\n",
      " [   0 1626]]\n",
      "Accuracy: 1.0\n",
      "Classification Report:\n",
      "               precision    recall  f1-score   support\n",
      "\n",
      "           0       1.00      1.00      1.00      1572\n",
      "           1       1.00      1.00      1.00      1626\n",
      "\n",
      "    accuracy                           1.00      3198\n",
      "   macro avg       1.00      1.00      1.00      3198\n",
      "weighted avg       1.00      1.00      1.00      3198\n",
      "\n",
      "\n",
      "KNN:\n",
      "\n",
      "Confusion Matrix:\n",
      " [[1572    0]\n",
      " [   0 1626]]\n",
      "Accuracy: 1.0\n",
      "Classification Report:\n",
      "               precision    recall  f1-score   support\n",
      "\n",
      "           0       1.00      1.00      1.00      1572\n",
      "           1       1.00      1.00      1.00      1626\n",
      "\n",
      "    accuracy                           1.00      3198\n",
      "   macro avg       1.00      1.00      1.00      3198\n",
      "weighted avg       1.00      1.00      1.00      3198\n",
      "\n",
      "\n",
      "SVM Linear:\n",
      "\n",
      "Confusion Matrix:\n",
      " [[1572    0]\n",
      " [   0 1626]]\n",
      "Accuracy: 1.0\n",
      "Classification Report:\n",
      "               precision    recall  f1-score   support\n",
      "\n",
      "           0       1.00      1.00      1.00      1572\n",
      "           1       1.00      1.00      1.00      1626\n",
      "\n",
      "    accuracy                           1.00      3198\n",
      "   macro avg       1.00      1.00      1.00      3198\n",
      "weighted avg       1.00      1.00      1.00      3198\n",
      "\n",
      "\n",
      "SVM RBF:\n",
      "\n",
      "Confusion Matrix:\n",
      " [[1572    0]\n",
      " [   0 1626]]\n",
      "Accuracy: 1.0\n",
      "Classification Report:\n",
      "               precision    recall  f1-score   support\n",
      "\n",
      "           0       1.00      1.00      1.00      1572\n",
      "           1       1.00      1.00      1.00      1626\n",
      "\n",
      "    accuracy                           1.00      3198\n",
      "   macro avg       1.00      1.00      1.00      3198\n",
      "weighted avg       1.00      1.00      1.00      3198\n",
      "\n"
     ]
    }
   ],
   "source": [
    "models = {\n",
    "    \"Logistic Regression\": LogisticRegression(max_iter=1000),\n",
    "    \"KNN\": KNeighborsClassifier(n_neighbors=5),\n",
    "    \"SVM Linear\": SVC(kernel='linear'),\n",
    "    \"SVM RBF\": SVC(kernel='rbf')\n",
    "}\n",
    "\n",
    "results = []\n",
    "\n",
    "for name, model in models.items():\n",
    "    model.fit(X_train, y_train)\n",
    "    y_pred = model.predict(X_test)\n",
    "    \n",
    "    acc = accuracy_score(y_test, y_pred)\n",
    "    report = classification_report(y_test, y_pred, output_dict=True)\n",
    "    conf_matrix = confusion_matrix(y_test, y_pred)\n",
    "    \n",
    "    print(f\"\\n{name}:\\n\")\n",
    "    print(\"Confusion Matrix:\\n\", conf_matrix)\n",
    "    print(\"Accuracy:\", acc)\n",
    "    print(\"Classification Report:\\n\", classification_report(y_test, y_pred))\n",
    "    \n",
    "    results.append({\n",
    "        \"Model\": name,\n",
    "        \"Accuracy\": acc,\n",
    "        \"Precision (Failure)\": report['1']['precision'],\n",
    "        \"Recall (Failure)\": report['1']['recall'],\n",
    "        \"F1-Score (Failure)\": report['1']['f1-score']\n",
    "    })"
   ]
  },
  {
   "cell_type": "code",
   "execution_count": 17,
   "id": "d70ced0b",
   "metadata": {},
   "outputs": [
    {
     "name": "stdout",
     "output_type": "stream",
     "text": [
      "Best Params (LR): {'C': 0.01, 'penalty': 'l2'}\n"
     ]
    }
   ],
   "source": [
    "# Logistic \n",
    "param_grid_lr = {\n",
    "    'C': [0.01, 0.1, 1, 10],\n",
    "    'penalty': ['l2'],  \n",
    "}\n",
    "\n",
    "grid_lr = GridSearchCV(LogisticRegression(max_iter=1000), param_grid_lr, cv=5, scoring='accuracy')\n",
    "grid_lr.fit(X_train, y_train)\n",
    "\n",
    "print(\"Best Params (LR):\", grid_lr.best_params_)"
   ]
  },
  {
   "cell_type": "code",
   "execution_count": 18,
   "id": "5eefe849",
   "metadata": {},
   "outputs": [
    {
     "name": "stdout",
     "output_type": "stream",
     "text": [
      "Best K for KNN: {'n_neighbors': 1}\n"
     ]
    }
   ],
   "source": [
    "#KNN \n",
    "param_grid_knn = {'n_neighbors': range(1, 21)}\n",
    "grid_knn = GridSearchCV(KNeighborsClassifier(), param_grid_knn, cv=5)\n",
    "grid_knn.fit(X_train, y_train)\n",
    "print(\"Best K for KNN:\", grid_knn.best_params_)"
   ]
  },
  {
   "cell_type": "code",
   "execution_count": 19,
   "id": "3680c810",
   "metadata": {},
   "outputs": [
    {
     "name": "stdout",
     "output_type": "stream",
     "text": [
      "Best parameters for SVM (Linear): {'C': 0.01, 'kernel': 'linear'}\n"
     ]
    }
   ],
   "source": [
    "#SVM \n",
    "param_grid_svm_linear = {\n",
    "    'C': [0.01, 0.1, 1, 10, 100],\n",
    "    'kernel': ['linear']\n",
    "}\n",
    "\n",
    "grid_svm_linear = GridSearchCV(SVC(), param_grid_svm_linear, cv=5, scoring='accuracy')\n",
    "grid_svm_linear.fit(X_train, y_train)\n",
    "\n",
    "print(\"Best parameters for SVM (Linear):\", grid_svm_linear.best_params_)"
   ]
  },
  {
   "cell_type": "code",
   "execution_count": 20,
   "id": "6b714aec",
   "metadata": {},
   "outputs": [
    {
     "name": "stdout",
     "output_type": "stream",
     "text": [
      "Best parameters for SVM (RBF): {'C': 0.1, 'gamma': 1, 'kernel': 'rbf'}\n"
     ]
    }
   ],
   "source": [
    "#SVM RBF\n",
    "param_grid_svm = {\n",
    "    'C': [0.1, 1, 10],\n",
    "    'gamma': [1, 0.1, 0.01],\n",
    "    'kernel': ['rbf']\n",
    "}\n",
    "grid_svm = GridSearchCV(SVC(), param_grid_svm, cv=5)\n",
    "grid_svm.fit(X_train, y_train)\n",
    "print(\"Best parameters for SVM (RBF):\", grid_svm.best_params_)\n"
   ]
  },
  {
   "cell_type": "code",
   "execution_count": 21,
   "id": "1895e8f8",
   "metadata": {},
   "outputs": [
    {
     "name": "stdout",
     "output_type": "stream",
     "text": [
      "                 Model  Accuracy  Precision (Failure)  Recall (Failure)  \\\n",
      "0  Logistic Regression       1.0                  1.0               1.0   \n",
      "1                  KNN       1.0                  1.0               1.0   \n",
      "2           SVM Linear       1.0                  1.0               1.0   \n",
      "3              SVM RBF       1.0                  1.0               1.0   \n",
      "\n",
      "   F1-Score (Failure)  \n",
      "0                 1.0  \n",
      "1                 1.0  \n",
      "2                 1.0  \n",
      "3                 1.0  \n"
     ]
    }
   ],
   "source": [
    "comparison_table = DataFrame(results)\n",
    "print(comparison_table.sort_values(by=\"Accuracy\", ascending=False))"
   ]
  },
  {
   "cell_type": "markdown",
   "id": "c58a8411",
   "metadata": {},
   "source": [
    "# d"
   ]
  },
  {
   "cell_type": "code",
   "execution_count": 22,
   "id": "04376d0b",
   "metadata": {
    "scrolled": false
   },
   "outputs": [
    {
     "name": "stdout",
     "output_type": "stream",
     "text": [
      "\n",
      "KNN:\n",
      "\n",
      "Confusion Matrix:\n",
      " [[418   0   0   0   0]\n",
      " [  0 410   2   0   0]\n",
      " [  0   0 392   0   0]\n",
      " [  0   0   0 387   0]\n",
      " [  0   0   0   0 390]]\n",
      "Accuracy: 0.9989994997498749\n",
      "Classification Report:\n",
      "               precision    recall  f1-score   support\n",
      "\n",
      "           0       1.00      1.00      1.00       418\n",
      "           1       1.00      1.00      1.00       412\n",
      "           2       0.99      1.00      1.00       392\n",
      "           3       1.00      1.00      1.00       387\n",
      "           4       1.00      1.00      1.00       390\n",
      "\n",
      "    accuracy                           1.00      1999\n",
      "   macro avg       1.00      1.00      1.00      1999\n",
      "weighted avg       1.00      1.00      1.00      1999\n",
      "\n",
      "\n",
      "Decision Tree:\n",
      "\n",
      "Confusion Matrix:\n",
      " [[418   0   0   0   0]\n",
      " [  0 412   0   0   0]\n",
      " [  0   0 392   0   0]\n",
      " [  0   0   0 387   0]\n",
      " [  0   0   0   0 390]]\n",
      "Accuracy: 1.0\n",
      "Classification Report:\n",
      "               precision    recall  f1-score   support\n",
      "\n",
      "           0       1.00      1.00      1.00       418\n",
      "           1       1.00      1.00      1.00       412\n",
      "           2       1.00      1.00      1.00       392\n",
      "           3       1.00      1.00      1.00       387\n",
      "           4       1.00      1.00      1.00       390\n",
      "\n",
      "    accuracy                           1.00      1999\n",
      "   macro avg       1.00      1.00      1.00      1999\n",
      "weighted avg       1.00      1.00      1.00      1999\n",
      "\n",
      "\n",
      "Random Forest:\n",
      "\n",
      "Confusion Matrix:\n",
      " [[418   0   0   0   0]\n",
      " [  0 412   0   0   0]\n",
      " [  0   0 392   0   0]\n",
      " [  0   0   0 387   0]\n",
      " [  0   0   0   0 390]]\n",
      "Accuracy: 1.0\n",
      "Classification Report:\n",
      "               precision    recall  f1-score   support\n",
      "\n",
      "           0       1.00      1.00      1.00       418\n",
      "           1       1.00      1.00      1.00       412\n",
      "           2       1.00      1.00      1.00       392\n",
      "           3       1.00      1.00      1.00       387\n",
      "           4       1.00      1.00      1.00       390\n",
      "\n",
      "    accuracy                           1.00      1999\n",
      "   macro avg       1.00      1.00      1.00      1999\n",
      "weighted avg       1.00      1.00      1.00      1999\n",
      "\n",
      "\n",
      "SVM (One-vs-Rest):\n",
      "\n",
      "Confusion Matrix:\n",
      " [[418   0   0   0   0]\n",
      " [  0 412   0   0   0]\n",
      " [  0   0 392   0   0]\n",
      " [  0   0   0 387   0]\n",
      " [  0   0   0   0 390]]\n",
      "Accuracy: 1.0\n",
      "Classification Report:\n",
      "               precision    recall  f1-score   support\n",
      "\n",
      "           0       1.00      1.00      1.00       418\n",
      "           1       1.00      1.00      1.00       412\n",
      "           2       1.00      1.00      1.00       392\n",
      "           3       1.00      1.00      1.00       387\n",
      "           4       1.00      1.00      1.00       390\n",
      "\n",
      "    accuracy                           1.00      1999\n",
      "   macro avg       1.00      1.00      1.00      1999\n",
      "weighted avg       1.00      1.00      1.00      1999\n",
      "\n",
      "\n",
      "SVM (One-vs-one):\n",
      "\n",
      "Confusion Matrix:\n",
      " [[418   0   0   0   0]\n",
      " [  0 412   0   0   0]\n",
      " [  0   0 392   0   0]\n",
      " [  0   0   0 387   0]\n",
      " [  0   0   0   0 390]]\n",
      "Accuracy: 1.0\n",
      "Classification Report:\n",
      "               precision    recall  f1-score   support\n",
      "\n",
      "           0       1.00      1.00      1.00       418\n",
      "           1       1.00      1.00      1.00       412\n",
      "           2       1.00      1.00      1.00       392\n",
      "           3       1.00      1.00      1.00       387\n",
      "           4       1.00      1.00      1.00       390\n",
      "\n",
      "    accuracy                           1.00      1999\n",
      "   macro avg       1.00      1.00      1.00      1999\n",
      "weighted avg       1.00      1.00      1.00      1999\n",
      "\n"
     ]
    }
   ],
   "source": [
    "X_multi = data_frame.drop(columns=['Failure Types', 'Failure_Binary'])\n",
    "y_multi = data_frame['Failure Types']\n",
    "\n",
    "smote_multi = SMOTE(random_state=42)\n",
    "X_res_multi, y_res_multi = smote_multi.fit_resample(X_multi, y_multi)\n",
    "\n",
    "\n",
    "X_train_m, X_test_m, y_train_m, y_test_m = train_test_split(X_res_multi, y_res_multi, test_size=0.2, random_state=42)\n",
    "\n",
    "\n",
    "models_multiclass = {\n",
    "    \"KNN\": KNeighborsClassifier(n_neighbors=5),\n",
    "    \"Decision Tree\": DecisionTreeClassifier(random_state=42),\n",
    "    \"Random Forest\": RandomForestClassifier(random_state=42),\n",
    "    \"SVM (One-vs-Rest)\": OneVsRestClassifier(SVC(kernel='rbf')),\n",
    "    \"SVM (One-vs-one)\":OneVsOneClassifier(SVC(kernel='linear', C=1))\n",
    "\n",
    "}\n",
    "\n",
    "\n",
    "results_multiclass = []\n",
    "\n",
    "for name, model in models_multiclass.items():\n",
    "    model.fit(X_train_m, y_train_m)\n",
    "    y_pred_m = model.predict(X_test_m)\n",
    "\n",
    "    acc = accuracy_score(y_test_m, y_pred_m)\n",
    "    conf_matrix = confusion_matrix(y_test_m, y_pred_m)\n",
    "    report = classification_report(y_test_m, y_pred_m, output_dict=True)\n",
    "\n",
    "    print(f\"\\n{name}:\\n\")\n",
    "    print(\"Confusion Matrix:\\n\", conf_matrix)\n",
    "    print(\"Accuracy:\", acc)\n",
    "    print(\"Classification Report:\\n\", classification_report(y_test_m, y_pred_m))\n",
    "\n",
    "    results_multiclass.append({\n",
    "        \"Model\": name,\n",
    "        \"Accuracy\": acc,\n",
    "        \"Macro Precision\": report['macro avg']['precision'],\n",
    "        \"Macro Recall\": report['macro avg']['recall'],\n",
    "        \"Macro F1\": report['macro avg']['f1-score']\n",
    "    })\n"
   ]
  },
  {
   "cell_type": "code",
   "execution_count": 23,
   "id": "6784c02a",
   "metadata": {},
   "outputs": [
    {
     "name": "stdout",
     "output_type": "stream",
     "text": [
      "Best K for KNN (Multiclass): {'n_neighbors': 4}\n"
     ]
    }
   ],
   "source": [
    "#KNN\n",
    "param_grid_knn = {'n_neighbors': range(1, 21)}\n",
    "grid_knn_multi = GridSearchCV(KNeighborsClassifier(), param_grid_knn, cv=5)\n",
    "grid_knn_multi.fit(X_train_m, y_train_m)\n",
    "print(\"Best K for KNN (Multiclass):\", grid_knn_multi.best_params_)\n"
   ]
  },
  {
   "cell_type": "code",
   "execution_count": 24,
   "id": "4c3c3f36",
   "metadata": {},
   "outputs": [
    {
     "name": "stdout",
     "output_type": "stream",
     "text": [
      "Best params for Decision Tree: {'max_depth': 5, 'min_samples_split': 2}\n"
     ]
    }
   ],
   "source": [
    "# Decision Tree\n",
    "param_grid_dt = {'max_depth': [3, 5, 10, None], 'min_samples_split': [2, 5, 10]}\n",
    "grid_dt = GridSearchCV(DecisionTreeClassifier(random_state=42), param_grid_dt, cv=5)\n",
    "grid_dt.fit(X_train_m, y_train_m)\n",
    "print(\"Best params for Decision Tree:\", grid_dt.best_params_)"
   ]
  },
  {
   "cell_type": "code",
   "execution_count": 25,
   "id": "0a310881",
   "metadata": {},
   "outputs": [
    {
     "name": "stdout",
     "output_type": "stream",
     "text": [
      "Best params for Random Forest: {'max_depth': None, 'n_estimators': 50}\n"
     ]
    }
   ],
   "source": [
    "# Random Forest\n",
    "param_grid_rf = {'n_estimators': [50, 100, 150], 'max_depth': [None, 10, 20]}\n",
    "grid_rf = GridSearchCV(RandomForestClassifier(random_state=42), param_grid_rf, cv=5)\n",
    "grid_rf.fit(X_train_m, y_train_m)\n",
    "print(\"Best params for Random Forest:\", grid_rf.best_params_)"
   ]
  },
  {
   "cell_type": "code",
   "execution_count": 26,
   "id": "3e35be7a",
   "metadata": {},
   "outputs": [
    {
     "name": "stdout",
     "output_type": "stream",
     "text": [
      "Best params for SVM (One-vs-Rest): {'estimator__C': 10, 'estimator__gamma': 0.1}\n"
     ]
    }
   ],
   "source": [
    "# SVM One-vs-Rest\n",
    "param_grid_svm_multi = {\n",
    "    'estimator__C': [0.1, 1, 10],\n",
    "    'estimator__gamma': [1, 0.1, 0.01]\n",
    "}\n",
    "grid_svm_multi = GridSearchCV(OneVsRestClassifier(SVC(kernel='rbf')), param_grid_svm_multi, cv=5)\n",
    "grid_svm_multi.fit(X_train_m, y_train_m)\n",
    "print(\"Best params for SVM (One-vs-Rest):\", grid_svm_multi.best_params_)"
   ]
  },
  {
   "cell_type": "code",
   "execution_count": 27,
   "id": "12914d52",
   "metadata": {},
   "outputs": [
    {
     "name": "stdout",
     "output_type": "stream",
     "text": [
      "Best params for SVM (One-vs-One): {'estimator__C': 0.1, 'estimator__gamma': 1}\n"
     ]
    }
   ],
   "source": [
    "# One-vs-One SVM\n",
    "param_grid_svm_ovo = {\n",
    "    'estimator__C': [0.1, 1, 10],\n",
    "    'estimator__gamma': [1, 0.1, 0.01]\n",
    "}\n",
    "grid_svm_ovo = GridSearchCV(OneVsOneClassifier(SVC(kernel='rbf')),param_grid_svm_ovo,cv=5,scoring='accuracy')\n",
    "grid_svm_ovo.fit(X_train_m, y_train_m)\n",
    "print(\"Best params for SVM (One-vs-One):\", grid_svm_ovo.best_params_)"
   ]
  },
  {
   "cell_type": "code",
   "execution_count": 29,
   "id": "2a2db99e",
   "metadata": {},
   "outputs": [
    {
     "name": "stdout",
     "output_type": "stream",
     "text": [
      "               Model  Accuracy  Macro Precision  Macro Recall  Macro F1\n",
      "1      Decision Tree  1.000000         1.000000      1.000000  1.000000\n",
      "2      Random Forest  1.000000         1.000000      1.000000  1.000000\n",
      "3  SVM (One-vs-Rest)  1.000000         1.000000      1.000000  1.000000\n",
      "4   SVM (One-vs-one)  1.000000         1.000000      1.000000  1.000000\n",
      "0                KNN  0.998999         0.998985      0.999029  0.999004\n"
     ]
    }
   ],
   "source": [
    "comparison_multiclass = DataFrame(results_multiclass)\n",
    "print(comparison_multiclass.sort_values(by=\"Accuracy\", ascending=False))"
   ]
  }
 ],
 "metadata": {
  "kernelspec": {
   "display_name": "Python 3 (ipykernel)",
   "language": "python",
   "name": "python3"
  },
  "language_info": {
   "codemirror_mode": {
    "name": "ipython",
    "version": 3
   },
   "file_extension": ".py",
   "mimetype": "text/x-python",
   "name": "python",
   "nbconvert_exporter": "python",
   "pygments_lexer": "ipython3",
   "version": "3.11.3"
  }
 },
 "nbformat": 4,
 "nbformat_minor": 5
}
